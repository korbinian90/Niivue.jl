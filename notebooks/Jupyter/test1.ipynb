{
 "cells": [
  {
   "cell_type": "code",
   "execution_count": null,
   "id": "cfd7f9dc",
   "metadata": {},
   "outputs": [],
   "source": [
    "# Install Niivue package\n",
    "import Pkg\n",
    "Pkg.develop(url=\"https://github.com/korbinian90/Niivue.jl\")"
   ]
  },
  {
   "cell_type": "code",
   "execution_count": 1,
   "id": "88cfe86c",
   "metadata": {},
   "outputs": [],
   "source": [
    "using Niivue, Revise"
   ]
  },
  {
   "cell_type": "code",
   "execution_count": 2,
   "id": "76179c29",
   "metadata": {},
   "outputs": [
    {
     "data": {
      "text/plain": [
       "2-element Vector{Dict{Symbol, String}}:\n",
       " Dict(:url => \"https://niivue.github.io/niivue/images/mni152.nii.gz\", :colormap => \"gray\")\n",
       " Dict(:url => \"https://niivue.github.io/niivue/images/hippo.nii.gz\", :colormap => \"red\")"
      ]
     },
     "metadata": {},
     "output_type": "display_data"
    }
   ],
   "source": [
    "volumes = [\n",
    "    Dict(\n",
    "        :url => \"https://niivue.github.io/niivue/images/mni152.nii.gz\",\n",
    "        :colormap => \"gray\",\n",
    "    ),\n",
    "    Dict(\n",
    "        :url => \"https://niivue.github.io/niivue/images/hippo.nii.gz\",\n",
    "        :colormap => \"red\",\n",
    "    )\n",
    "]"
   ]
  },
  {
   "cell_type": "code",
   "execution_count": 10,
   "id": "18781316",
   "metadata": {},
   "outputs": [
    {
     "data": {
      "text/plain": [
       "Niivue.NiivueViewer(Bonito.App(Bonito.var\"#10#16\"{Niivue.var\"#2#3\"{Bonito.JSCode, Hyperscript.Node{Hyperscript.HTMLSVG}}}(Niivue.var\"#2#3\"{Bonito.JSCode, Hyperscript.Node{Hyperscript.HTMLSVG}}(    import(\"https://cdn.jsdelivr.net/npm/@niivue/niivue@0.56.0/+esm\").then((Niivue) => {\n",
       "        const nv = new Niivue.Niivue()\n",
       "        nv.attachTo('gl')\n",
       "        function nv_method(args) {\n",
       "            const [method, arg] = args[0]\n",
       "            console.log(\"niivue call\", method, arg)\n",
       "            nv[method](arg)\n",
       "        }\n",
       "        function nv_opts(args) {\n",
       "            const [method, arg] = args[0]\n",
       "            console.log(\"niivue property\", method, arg)\n",
       "            nv.opts[method] = arg\n",
       "            nv.updateGLVolume()\n",
       "        }\n",
       "        for (const opt of __lookup_interpolated('12067684848405670076')) {\n",
       "            nv.opts[opt[0]] = opt[1]\n",
       "        }\n",
       "        for (const method of __lookup_interpolated('439237187805142372')) {\n",
       "            nv[method[0]](method[1])\n",
       "        }\n",
       "        nv.updateGLVolume()\n",
       "        Bonito.onany([__lookup_interpolated('18039677442748241979')], nv_method)\n",
       "        Bonito.onany([__lookup_interpolated('14291093084582140105')], nv_opts)\n",
       "    })\n",
       ", <canvas height=\"400\" id=\"gl\" width=\"400\"></canvas>)), Base.RefValue{Union{Nothing, Bonito.Session}}(nothing), \"Bonito App\", false), Observable(Any[\"setCrosshairWidth\", 5]), Observable(Any[\"isColorbar\", false]))"
      ]
     },
     "metadata": {},
     "output_type": "display_data"
    }
   ],
   "source": [
    "\n",
    "opts = [(\"isColorbar\", true), (\"isResizeCanvas\", false)]\n",
    "methods = [(\"setCrosshairWidth\", 10), (\"setInterpolation\", false)]\n",
    "nv1 = niivue(volumes; opts, methods)"
   ]
  },
  {
   "cell_type": "code",
   "execution_count": 11,
   "id": "9abc9c0a",
   "metadata": {},
   "outputs": [
    {
     "data": {
      "text/html": [
       "<div class=\"bonito-fragment\" id=\"99732a32-f359-4485-a8b5-0512a683b8e8\" data-jscall-id=\"root\">\n",
       "  <div>\n",
       "    <script src=\"http://localhost:9384/assets/cb835d0dae749d78510a1292d4dbe40b7d932f4d-Bonito.bundled.js?1a6c13a306d05f37f64912f41d6795fa07f57642\" type=\"module\"></script>\n",
       "    <style></style>\n",
       "    <div></div>\n",
       "  </div>\n",
       "  <div>\n",
       "    <script type=\"module\">    Bonito.lock_loading(() => {\n",
       "        return Bonito.fetch_binary('http://localhost:9384/assets/3bd4a474bf1e01d2852620956c161995ef3b1b69-15164908542710465284.bin').then(msgs=> Bonito.init_session('99732a32-f359-4485-a8b5-0512a683b8e8', msgs, 'root', false));\n",
       "    })\n",
       "</script>\n",
       "    <script type=\"module\">    import('http://localhost:9384/assets/a4d5b1d313ed630899f75334386f39a03dc91e9e-Websocket.bundled.js?3577d252c5b9352acc5d2c244cca9f65721974ec').then(WS => {\n",
       "        WS.setup_connection({\n",
       "            proxy_url: 'http://localhost:9384',\n",
       "            session_id: '99732a32-f359-4485-a8b5-0512a683b8e8',\n",
       "            compression_enabled: false,\n",
       "            query: '',\n",
       "            main_connection: true\n",
       "        })\n",
       "    })\n",
       "</script>\n",
       "    <div data-jscall-id=\"1\">\n",
       "      <canvas height=\"400\" id=\"gl\" data-jscall-id=\"2\" width=\"400\"></canvas>\n",
       "      <p>Bonito.SerializedMessage&#40;UInt8&#91;0x92, 0xc7, 0x62, 0x6a, 0x93, 0xd9, 0x24, 0x39, 0x39, 0x37  …  0x6d, 0x73, 0x67, 0x5f, 0x74, 0x79, 0x70, 0x65, 0xa1, 0x32&#93;&#41;</p>\n",
       "    </div>\n",
       "  </div>\n",
       "</div>"
      ],
      "text/plain": [
       "Bonito.App(Bonito.var\"#10#16\"{Niivue.var\"#2#3\"{Bonito.JSCode, Hyperscript.Node{Hyperscript.HTMLSVG}}}(Niivue.var\"#2#3\"{Bonito.JSCode, Hyperscript.Node{Hyperscript.HTMLSVG}}(    import(\"https://cdn.jsdelivr.net/npm/@niivue/niivue@0.56.0/+esm\").then((Niivue) => {\n",
       "        const nv = new Niivue.Niivue()\n",
       "        nv.attachTo('gl')\n",
       "        function nv_method(args) {\n",
       "            const [method, arg] = args[0]\n",
       "            console.log(\"niivue call\", method, arg)\n",
       "            nv[method](arg)\n",
       "        }\n",
       "        function nv_opts(args) {\n",
       "            const [method, arg] = args[0]\n",
       "            console.log(\"niivue property\", method, arg)\n",
       "            nv.opts[method] = arg\n",
       "            nv.updateGLVolume()\n",
       "        }\n",
       "        for (const opt of __lookup_interpolated('12067684848405670076')) {\n",
       "            nv.opts[opt[0]] = opt[1]\n",
       "        }\n",
       "        for (const method of __lookup_interpolated('439237187805142372')) {\n",
       "            nv[method[0]](method[1])\n",
       "        }\n",
       "        nv.updateGLVolume()\n",
       "        Bonito.onany([__lookup_interpolated('18039677442748241979')], nv_method)\n",
       "        Bonito.onany([__lookup_interpolated('14291093084582140105')], nv_opts)\n",
       "    })\n",
       ", <canvas height=\"400\" id=\"gl\" width=\"400\"></canvas>)), Base.RefValue{Union{Nothing, Bonito.Session}}(nothing), \"Bonito App\", false)"
      ]
     },
     "metadata": {},
     "output_type": "display_data"
    }
   ],
   "source": [
    "nv1.app"
   ]
  },
  {
   "cell_type": "code",
   "execution_count": null,
   "id": "ab4ad662",
   "metadata": {},
   "outputs": [],
   "source": [
    "# Reactivity not working in Jupyter yet, use opts and methods during initilization\n",
    "# Pluto notebooks, vscode, and Julia REPL support reactive Niivue instances\n",
    "\n",
    "# nv1.setCrosshairWidth(10)\n",
    "# nv1.isColorbar = true"
   ]
  }
 ],
 "metadata": {
  "kernelspec": {
   "display_name": "Julia 1.11.5",
   "language": "julia",
   "name": "julia-1.11"
  },
  "language_info": {
   "file_extension": ".jl",
   "mimetype": "application/julia",
   "name": "julia",
   "version": "1.11.5"
  }
 },
 "nbformat": 4,
 "nbformat_minor": 5
}
