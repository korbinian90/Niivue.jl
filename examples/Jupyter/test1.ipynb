{
 "cells": [
  {
   "cell_type": "code",
   "execution_count": null,
   "id": "cfd7f9dc",
   "metadata": {},
   "outputs": [],
   "source": [
    "# Install Niivue package\n",
    "import Pkg\n",
    "Pkg.develop(url=\"https://github.com/korbinian90/Niivue.jl\")"
   ]
  },
  {
   "cell_type": "code",
   "execution_count": 1,
   "id": "88cfe86c",
   "metadata": {},
   "outputs": [],
   "source": [
    "using Niivue"
   ]
  },
  {
   "cell_type": "code",
   "execution_count": null,
   "id": "76179c29",
   "metadata": {},
   "outputs": [
    {
     "data": {
      "text/plain": [
       "2-element Vector{Dict{Symbol, String}}:\n",
       " Dict(:url => \"https://niivue.github.io/niivue/images/mni152.nii.gz\", :colormap => \"gray\")\n",
       " Dict(:url => \"https://niivue.github.io/niivue/images/hippo.nii.gz\", :colormap => \"red\")"
      ]
     },
     "metadata": {},
     "output_type": "display_data"
    }
   ],
   "source": [
    "volumes = [\n",
    "    Dict(\n",
    "        :url => \"https://niivue.github.io/niivue-demo-images/mni152.nii.gz\",\n",
    "        :colormap => \"gray\",\n",
    "    ),\n",
    "    Dict(\n",
    "        :url => \"https://niivue.github.io/niivue-demo-images/spmMotor.nii.gz\",\n",
    "        :colormap => \"red\",\n",
    "        :opacity => 0.5,\n",
    "    )\n",
    "]"
   ]
  },
  {
   "cell_type": "code",
   "execution_count": null,
   "id": "18781316",
   "metadata": {},
   "outputs": [],
   "source": [
    "\n",
    "opts = [(\"isColorbar\", true), (\"isResizeCanvas\", false)]\n",
    "methods = [(\"setCrosshairWidth\", 10), (\"setInterpolation\", false)]\n",
    "nv1 = niivue(volumes; opts, methods)"
   ]
  },
  {
   "cell_type": "code",
   "execution_count": null,
   "id": "792aee23",
   "metadata": {},
   "outputs": [
    {
     "data": {
      "text/html": [
       "<div class=\"bonito-fragment\" id=\"9eb7ec74-e7f0-46aa-9e5a-fedfe466d6e7\" data-jscall-id=\"root\">\n",
       "  <div>\n",
       "    <script src=\"http://localhost:9385/assets/cb835d0dae749d78510a1292d4dbe40b7d932f4d-Bonito.bundled.js?1a6c13a306d05f37f64912f41d6795fa07f57642\" type=\"module\"></script>\n",
       "    <style></style>\n",
       "    <div></div>\n",
       "  </div>\n",
       "  <div>\n",
       "    <script type=\"module\">    Bonito.lock_loading(() => {\n",
       "        return Bonito.fetch_binary('http://localhost:9385/assets/f093d696b2508c43b7acdb35b924f6dcc607754f-9054255402221129844.bin').then(msgs=> Bonito.init_session('9eb7ec74-e7f0-46aa-9e5a-fedfe466d6e7', msgs, 'root', false));\n",
       "    })\n",
       "</script>\n",
       "    <script type=\"module\">    import('http://localhost:9385/assets/a4d5b1d313ed630899f75334386f39a03dc91e9e-Websocket.bundled.js?3577d252c5b9352acc5d2c244cca9f65721974ec').then(WS => {\n",
       "        WS.setup_connection({\n",
       "            proxy_url: 'http://localhost:9385',\n",
       "            session_id: '9eb7ec74-e7f0-46aa-9e5a-fedfe466d6e7',\n",
       "            compression_enabled: false,\n",
       "            query: '',\n",
       "            main_connection: true\n",
       "        })\n",
       "    })\n",
       "</script>\n",
       "    <div data-jscall-id=\"1\">\n",
       "      <canvas height=\"400\" id=\"gl\" data-jscall-id=\"2\" width=\"400\"></canvas>\n",
       "      <p>Bonito.SerializedMessage&#40;UInt8&#91;0x92, 0xc7, 0x60, 0x6a, 0x93, 0xd9, 0x24, 0x39, 0x65, 0x62  …  0x6d, 0x73, 0x67, 0x5f, 0x74, 0x79, 0x70, 0x65, 0xa1, 0x32&#93;&#41;</p>\n",
       "    </div>\n",
       "  </div>\n",
       "</div>"
      ],
      "text/plain": [
       "Bonito.App(Bonito.var\"#10#16\"{Niivue.var\"#2#3\"{Bonito.JSCode, Hyperscript.Node{Hyperscript.HTMLSVG}}}(Niivue.var\"#2#3\"{Bonito.JSCode, Hyperscript.Node{Hyperscript.HTMLSVG}}(    import(\"https://cdn.jsdelivr.net/npm/@niivue/niivue@0.56.0/+esm\").then((Niivue) => {\n",
       "        const nv = new Niivue.Niivue()\n",
       "        window.nv = nv\n",
       "        nv.attachTo('gl')\n",
       "        function fix_volumes(volumes) {\n",
       "            for (const volume of volumes) {\n",
       "                if (volume.url instanceof Uint8Array) {\n",
       "                    volume.url = volume.url.slice()\n",
       "                }\n",
       "            }\n",
       "        }\n",
       "        function nv_methods(args) {\n",
       "            for (const [method, arg] of args) {\n",
       "                console.log(\"niivue method\", method, arg)\n",
       "                if (method === \"loadVolumes\") {\n",
       "                    fix_volumes(arg)\n",
       "                    nv.loadVolumes(arg)\n",
       "                } else {\n",
       "                    nv[method](arg)\n",
       "                }\n",
       "            }\n",
       "        }\n",
       "        function nv_opts(args) {\n",
       "            for (const [method, arg] of args) {\n",
       "                console.log(\"niivue property\", method, arg)\n",
       "                nv.opts[method] = arg\n",
       "            }\n",
       "            nv.updateGLVolume()\n",
       "        }\n",
       "        nv_opts(__lookup_interpolated('11738322039288555189'))\n",
       "        nv_methods(__lookup_interpolated('13395044872000539343'))\n",
       "        nv.updateGLVolume()\n",
       "        Bonito.onany([__lookup_interpolated('13025664751886229203')], nv_methods)\n",
       "        Bonito.onany([__lookup_interpolated('244638611032770597')], nv_opts)\n",
       "    })\n",
       ", <canvas height=\"400\" id=\"gl\" width=\"400\"></canvas>)), Base.RefValue{Union{Nothing, Bonito.Session}}(nothing), \"Bonito App\", false)"
      ]
     },
     "metadata": {},
     "output_type": "display_data"
    }
   ],
   "source": [
    "# Currently, only one instance of Niivue can be displayed at a time\n",
    "function create_array(voxel_size=(1, 1, 1), dims=(64, 64, 32))\n",
    "    test_array = zeros(Float32, dims)\n",
    "\n",
    "    center = dims .÷ 2\n",
    "    radius = minimum(dims .* voxel_size) ÷ 4\n",
    "\n",
    "    for i in 1:dims[1], j in 1:dims[2], k in 1:dims[3]\n",
    "        dist = sqrt(((i-center[1])*voxel_size[1])^2 + \n",
    "                    ((j-center[2])*voxel_size[2])^2 + \n",
    "                    ((k-center[3])*voxel_size[3])^2)\n",
    "        if dist < radius\n",
    "            test_array[i,j,k] = 1.0 - (dist/radius)\n",
    "        end\n",
    "    end\n",
    "\n",
    "    return test_array\n",
    "end\n",
    "arr = create_array()\n",
    "nv1 = niivue(arr)"
   ]
  },
  {
   "cell_type": "code",
   "execution_count": 6,
   "id": "ab4ad662",
   "metadata": {},
   "outputs": [],
   "source": [
    "# Reactivity not working in Jupyter yet, use opts and methods during initilization\n",
    "# Pluto notebooks, vscode, and Julia REPL support reactive Niivue instances\n",
    "\n",
    "# nv1.setCrosshairWidth(10)\n",
    "# nv1.isColorbar = true"
   ]
  }
 ],
 "metadata": {
  "kernelspec": {
   "display_name": "Julia 1.11.5",
   "language": "julia",
   "name": "julia-1.11"
  },
  "language_info": {
   "file_extension": ".jl",
   "mimetype": "application/julia",
   "name": "julia",
   "version": "1.11.5"
  }
 },
 "nbformat": 4,
 "nbformat_minor": 5
}
